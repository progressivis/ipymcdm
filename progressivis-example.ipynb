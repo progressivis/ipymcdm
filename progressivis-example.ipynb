{
 "cells": [
  {
   "cell_type": "code",
   "execution_count": 1,
   "id": "3467243e-68af-4bd0-8298-7127362f0923",
   "metadata": {},
   "outputs": [
    {
     "name": "stdout",
     "output_type": "stream",
     "text": [
      "env: ANYWIDGET_HMR=1\n"
     ]
    }
   ],
   "source": [
    "%load_ext autoreload\n",
    "%autoreload 2\n",
    "%env ANYWIDGET_HMR=1"
   ]
  },
  {
   "cell_type": "code",
   "execution_count": 2,
   "id": "01830947-19ca-4d55-8b82-07962438f857",
   "metadata": {},
   "outputs": [],
   "source": [
    "import numpy as np\n",
    "from ipymcdm import MCDMWidget\n",
    "from progressivis import (\n",
    "    CSVLoader,\n",
    "    Histogram2D,\n",
    "    Quantiles,\n",
    "    Module,\n",
    "    Sink\n",
    ")"
   ]
  },
  {
   "cell_type": "code",
   "execution_count": 3,
   "id": "6de70fe4-c8ae-4e91-a24d-cef886bd9e14",
   "metadata": {},
   "outputs": [],
   "source": [
    "import ipywidgets as ipw\n",
    "import warnings\n",
    "warnings.filterwarnings(\"ignore\")\n",
    "LARGE_TAXI_FILE = \"https://www.aviz.fr/nyc-taxi/yellow_tripdata_2015-01.csv.bz2\"\n",
    "RESOLUTION=512\n",
    "\n",
    "def display_histo2d(histo2d, width:int = 512, height:int = 512) -> None:\n",
    "    img = MCDMWidget()\n",
    "    progress = ipw.IntProgress(value=0, min=0, max=1000,\n",
    "                               description='0/0',\n",
    "                               orientation='horizontal')\n",
    "    box = ipw.VBox([progress, img])\n",
    "\n",
    "    display(box)  # type: ignore\n",
    "    async def _after_run(m: Module, run_number: int) -> None:\n",
    "        assert isinstance(m, Histogram2D)\n",
    "        array = m._histo  # get the image from the heatmap\n",
    "        if array is not None:\n",
    "            img.array = np.log1p(np.flip(array, axis=0))  # Replace the displayed image with the new one\n",
    "            # img.maxval = array.max()\n",
    "        prog = m.get_progress()\n",
    "        if prog is not None:\n",
    "            value = prog[0]\n",
    "            max = prog[1]\n",
    "            progress.value = value\n",
    "            progress.max = max\n",
    "            if max != 0:\n",
    "                percent = value * 100 / max\n",
    "                progress.description = f\"{int(percent)}%\"\n",
    "\n",
    "        # TODO: add a on_ending(remove _after_run)\n",
    "    histo2d.on_after_run(_after_run)  # Install the callback\n",
    "    return img\n"
   ]
  },
  {
   "cell_type": "code",
   "execution_count": 4,
   "id": "efab3b4a-3dc0-42cb-b2cd-0be646630861",
   "metadata": {},
   "outputs": [
    {
     "name": "stderr",
     "output_type": "stream",
     "text": [
      "Unexpected slot hint 0.03 for Slot(quantiles_1[result]->histogram2_d_1[min])\n",
      "Unexpected slot hint 0.97 for Slot(quantiles_1[result]->histogram2_d_1[max])\n"
     ]
    },
    {
     "data": {
      "application/vnd.jupyter.widget-view+json": {
       "model_id": "101ffc74fc1e49929313d9bfdd6b8059",
       "version_major": 2,
       "version_minor": 0
      },
      "text/plain": [
       "VBox(children=(IntProgress(value=0, description='0/0', max=1000), MCDMWidget()))"
      ]
     },
     "metadata": {},
     "output_type": "display_data"
    }
   ],
   "source": [
    "\n",
    "# Create a csv loader filtering out data outside NYC\n",
    "csv = CSVLoader(LARGE_TAXI_FILE, index_col=False, usecols=['pickup_longitude', 'pickup_latitude'])  # , filter_=filter_)\n",
    "\n",
    "# Create a Quantile module to get rid of the 3% outliers both sides\n",
    "quantiles = Quantiles()\n",
    "quantiles.input.table = csv.output.result\n",
    "# Create a module to compute the 2D histogram of the two columns specified\n",
    "# with the given resolution\n",
    "histogram2d = Histogram2D('pickup_longitude', 'pickup_latitude', xbins=RESOLUTION, ybins=RESOLUTION)\n",
    "# Connect the module to the csv results and the min,max bounds to rescale\n",
    "histogram2d.input.table = csv.output.result\n",
    "histogram2d.input.min = quantiles.output.result[0.03]\n",
    "histogram2d.input.max = quantiles.output.result[0.97]\n",
    "img = display_histo2d(histogram2d)\n",
    "sink = Sink()\n",
    "sink.input.inp = histogram2d.output.result"
   ]
  },
  {
   "cell_type": "code",
   "execution_count": 5,
   "id": "d7002701-98d0-4df9-9bcc-154ec93167db",
   "metadata": {},
   "outputs": [
    {
     "name": "stdout",
     "output_type": "stream",
     "text": [
      "# Scheduler added module(s): ['csv_loader_1', 'histogram2_d_1', 'quantiles_1', 'sink_1']\n"
     ]
    },
    {
     "data": {
      "text/plain": [
       "<Task pending name='Task-5' coro=<Scheduler.start() running at /home/fekete/src/progressivis/progressivis/core/scheduler.py:273>>"
      ]
     },
     "execution_count": 5,
     "metadata": {},
     "output_type": "execute_result"
    },
    {
     "name": "stdout",
     "output_type": "stream",
     "text": [
      "Starting scheduler\n"
     ]
    }
   ],
   "source": [
    "csv.scheduler().commit()\n",
    "csv.scheduler().task_start()"
   ]
  },
  {
   "cell_type": "code",
   "execution_count": 6,
   "id": "91f89e11-f4c7-4504-aed6-e1811500221c",
   "metadata": {},
   "outputs": [
    {
     "data": {
      "text/html": [
       "\n",
       "<style scoped>\n",
       "    .dataframe tbody tr th:only-of-type {\n",
       "        vertical-align: middle;\n",
       "    }\n",
       "\n",
       "    .dataframe tbody tr th {\n",
       "        vertical-align: top;\n",
       "    }\n",
       "\n",
       "    .dataframe thead th {\n",
       "        text-align: right;\n",
       "    }\n",
       "</style>\n",
       "<p><b>Scheduler</b> 0x708a8c52a8d0\n",
       "        <b>running</b>,\n",
       "        <b>modules:</b> 4,\n",
       "        <b>run number:</b> 0\n",
       "</p>\n",
       "<table border=\"1\" class=\"dataframe\">\n",
       "  <thead>\n",
       "    <tr style=\"text-align: right;\">\n",
       "      <th>Id</th><th>Class</th><th>State</th><th>Last Update</th><th>Order</th>\n",
       "    </tr>\n",
       "  </thead>\n",
       "  <tbody><tr><td>csv_loader_1</td><td>csv_loader</td><td>state_ready</td><td>0</td><td>0</td><tr><td>quantiles_1</td><td>quantiles</td><td>state_ready</td><td>0</td><td>1</td><tr><td>histogram2_d_1</td><td>histogram2_d</td><td>state_ready</td><td>0</td><td>2</td><tr><td>sink_1</td><td>sink</td><td>state_ready</td><td>0</td><td>3</td></tbody></table>"
      ],
      "text/plain": [
       "<progressivis.core.scheduler.Scheduler at 0x708a8c52a8d0>"
      ]
     },
     "execution_count": 6,
     "metadata": {},
     "output_type": "execute_result"
    }
   ],
   "source": [
    "csv.scheduler()"
   ]
  },
  {
   "cell_type": "code",
   "execution_count": 9,
   "id": "94bafe12-916b-4f55-ad81-c930d52d99ac",
   "metadata": {},
   "outputs": [],
   "source": [
    "img.maxval = 2\n",
    "# csv.scheduler().task_stop()"
   ]
  },
  {
   "cell_type": "code",
   "execution_count": null,
   "id": "ed7a61dd-f89d-49d8-a994-65efa6efbe5f",
   "metadata": {},
   "outputs": [],
   "source": []
  }
 ],
 "metadata": {
  "kernelspec": {
   "display_name": "Python 3 (ipykernel)",
   "language": "python",
   "name": "python3"
  },
  "language_info": {
   "codemirror_mode": {
    "name": "ipython",
    "version": 3
   },
   "file_extension": ".py",
   "mimetype": "text/x-python",
   "name": "python",
   "nbconvert_exporter": "python",
   "pygments_lexer": "ipython3",
   "version": "3.12.7"
  }
 },
 "nbformat": 4,
 "nbformat_minor": 5
}
